{
 "cells": [
  {
   "cell_type": "code",
   "execution_count": null,
   "metadata": {},
   "outputs": [],
   "source": [
    "from tqdm import tqdm\n",
    "import xgboost as xgb\n",
    "import lightgbm as lgb\n",
    "import catboost\n",
    "\n",
    "from lightgbm import LGBMRegressor\n",
    "from xgboost import XGBRegressor\n",
    "from catboost import CatBoostRegressor\n",
    "\n",
    "import os\n",
    "import pandas as pd\n",
    "import warnings\n",
    "warnings.filterwarnings('ignore')"
   ]
  },
  {
   "cell_type": "code",
   "execution_count": null,
   "metadata": {},
   "outputs": [],
   "source": [
    "DATA_PATH = \"../data\" # 학습에 사용할 csv 파일이 저장된 폴더입니다.\n",
    "TRAIN_FILE = \"train.csv\" # 학습 및 예측에 사용할 파일입니다.\n",
    "TRAIN_PATH = os.path.join(DATA_PATH, TRAIN_FILE)\n",
    "data = pd.read_csv(TRAIN_PATH)\n",
    "\n",
    "df_brand = pd.read_csv(os.path.join(DATA_PATH, 'brand_keyword_cnt.csv'))\n",
    "df_info = pd.read_csv(os.path.join(DATA_PATH, 'product_info.csv'))\n",
    "df_sales = pd.read_csv(os.path.join(DATA_PATH, 'sales.csv'))\n",
    "df_smp = pd.read_csv(os.path.join(DATA_PATH, 'sample_submission.csv'))\n",
    "df_data = pd.read_csv(os.path.join(DATA_PATH, 'train.csv'))"
   ]
  },
  {
   "cell_type": "code",
   "execution_count": null,
   "metadata": {},
   "outputs": [],
   "source": [
    "data = pd.read_csv(TRAIN_PATH)\n",
    "\n",
    "timesize = 60\n",
    "\n",
    "timecol1 = []\n",
    "for times in range(0, timesize):\n",
    "    colname='d'+str(-timesize+times)\n",
    "    timecol1.append(colname)\n",
    "\n",
    "timecol = []\n",
    "for times in range(0, timesize):\n",
    "    colname='d'+str(-timesize+times)\n",
    "    timecol.append(colname)\n",
    "timecol.append(\"target\")"
   ]
  },
  {
   "cell_type": "code",
   "execution_count": null,
   "metadata": {},
   "outputs": [],
   "source": [
    "DATA_LENGTH, b=data.shape\n",
    "seed = 1994\n",
    "\n",
    "FINAL_RESULTS = []\n",
    "\n",
    "for PRODUCT in tqdm(range(0, DATA_LENGTH)):\n",
    "    FIRST = data.iloc[PRODUCT:PRODUCT+1, 6:6+timesize+1]\n",
    "    FIRST.index = [data.columns[6+timesize]]\n",
    "    FIRST.columns = timecol\n",
    "\n",
    "    for i in range(1, 465-timesize-6):\n",
    "        ADD = data.iloc[PRODUCT:PRODUCT+1, 6+i:6+timesize+i+1]\n",
    "        ADD.index = [data.columns[7+timesize+i]]\n",
    "        ADD.columns = timecol\n",
    "        FIRST = pd.concat([FIRST, ADD])\n",
    "        # FIRST = FIRST.append(ADD, ignore_index=False)\n",
    "\n",
    "    X_train = FIRST.drop(columns=\"target\")\n",
    "    y_train = FIRST['target']\n",
    "\n",
    "    # model = XGBRegressor(random_state=seed)\n",
    "    # model = LGBMRegressor(random_state=seed)\n",
    "    model = CatBoostRegressor(random_state=seed, verbose=0)\n",
    "\n",
    "    try:\n",
    "        model.fit(X_train, y_train)\n",
    "\n",
    "        test_df = data.iloc[PRODUCT:PRODUCT+1, 6+i+1:]\n",
    "        test_df.columns = timecol1\n",
    "\n",
    "        results = []\n",
    "\n",
    "        y_pred = model.predict(test_df)\n",
    "        results.append(round(y_pred[0]))\n",
    "        for PREDICT_TIME in range(0, 20):\n",
    "            test_df = test_df.iloc[:, 1:]\n",
    "            test_df[\"add\"] = round(y_pred[0])\n",
    "            test_df.columns = X_train.columns\n",
    "            y_pred = model.predict(test_df)\n",
    "            results.append(round(y_pred[0]))\n",
    "    except:\n",
    "        results = [0,0,0,0,0,0,0,0,0,0,0,0,0,0,0,0,0,0,0,0,0]\n",
    "\n",
    "    FINAL_RESULTS.append(results)\n",
    "    \n",
    "predict_df = pd.concat(FINAL_RESULTS, ignore_index=True)\n",
    "predict_df"
   ]
  },
  {
   "cell_type": "code",
   "execution_count": null,
   "metadata": {},
   "outputs": [],
   "source": [
    "# concat 데이터 csv파일로 저장하기\n",
    "predict_df.to_csv('../submit/submission6.csv', header=True, index=False)"
   ]
  }
 ],
 "metadata": {
  "language_info": {
   "name": "python"
  },
  "orig_nbformat": 4
 },
 "nbformat": 4,
 "nbformat_minor": 2
}
