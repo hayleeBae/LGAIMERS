{
 "cells": [
  {
   "cell_type": "code",
   "execution_count": null,
   "metadata": {},
   "outputs": [],
   "source": [
    "import pandas as pd\n",
    "import numpy as np\n",
    "import matplotlib.pyplot as plt\n",
    "import seaborn as sns\n",
    "from prophet import Prophet\n",
    "import numpy as np\n",
    "RANDOM_SEED = 94\n",
    "np.random.seed(RANDOM_SEED)"
   ]
  },
  {
   "cell_type": "code",
   "execution_count": null,
   "metadata": {},
   "outputs": [],
   "source": [
    "def ph_train(df):\n",
    "    pred_list = []  \n",
    "    for code in df['ID'].unique():\n",
    "        d = df[df['ID'] == code].reset_index().drop(['index','ID'], axis=1).sort_values('ds')\n",
    "        model = Prophet(growth = 'choose',seasonality_mode = 'choose',yearly_seasonality = 'choose',weekly_seasonality = 'choose',daily_seasonality = 'choose',holidays = 'choose'\n",
    "                       )\n",
    "        model.fit(d)\n",
    "        future = pd.DataFrame()\n",
    "        future['ds'] = pd.date_range(start='2023-04-05', periods=21, freq='choose') \n",
    "        forecast = model.predict(future)        \n",
    "        pred_y = forecast['yhat'].values\n",
    "        pred_code = [str(code)] * len(pred_y)\n",
    "        for y_val, id_val in zip(pred_y, pred_code):\n",
    "            pred_list.append({'ID': id_val, 'y': y_val})\n",
    "    pred = pd.DataFrame(pred_list) \n",
    "    return pred\n",
    "pred = ph_train(train)\n",
    "pred"
   ]
  }
 ],
 "metadata": {
  "language_info": {
   "name": "python"
  },
  "orig_nbformat": 4
 },
 "nbformat": 4,
 "nbformat_minor": 2
}
