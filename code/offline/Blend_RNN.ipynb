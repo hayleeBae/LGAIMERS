{
 "cells": [
  {
   "cell_type": "code",
   "execution_count": 9,
   "metadata": {},
   "outputs": [],
   "source": [
    "import pandas as pd\n",
    "import numpy as np\n",
    "import os\n",
    "\n",
    "PATH = os.getcwd() + '/submissions/'"
   ]
  },
  {
   "cell_type": "markdown",
   "metadata": {},
   "source": [
    "### 가장 성능이 좋았던 4개의 모델 선정"
   ]
  },
  {
   "cell_type": "code",
   "execution_count": 2,
   "metadata": {},
   "outputs": [],
   "source": [
    "gru_1 = pd.read_csv(PATH + 'GRU_1Layer_1e_4_drop(0.4).csv') # Batch_size : 2048, num_layers : 1, dropout : 0.4, learning_rate : 1e-4\n",
    "\n",
    "gru_2 = pd.read_csv(PATH + 'GRU_2Layers_1e_4.csv')          # Batch_size : 1024, num_layers : 2, dropout : 0.5(default), learning_rate : 1e-4\n",
    "\n",
    "lstm_1 = pd.read_csv(PATH + 'lstm_1Layer_1e_4.csv')         # Batch_size : 2048, num_layers : 1, dropout : 0.5(default), learning_rate : 1e-4\n",
    "\n",
    "lstm_2 = pd.read_csv(PATH + 'lstm_2Layers_1e_4.csv')        # Batch_size : 1024, num_layers : 2, dropout : 0.5(default), learning_rate : 1e-4"
   ]
  },
  {
   "cell_type": "code",
   "execution_count": 12,
   "metadata": {},
   "outputs": [],
   "source": [
    "blend = gru_1.copy()\n",
    "blend.iloc[:, 1:] = 0\n",
    "\n",
    "model_li = [gru_1, gru_2, lstm_1, lstm_2]\n",
    "\n",
    "for model in model_li:\n",
    "    blend.iloc[:, 1:] += model.iloc[:, 1:]\n",
    "\n",
    "# 평균을 낸 후 반올림해서 int형으로 변형\n",
    "blend.iloc[:, 1:] = np.round(blend.iloc[:, 1:]/4).astype(int)"
   ]
  },
  {
   "cell_type": "code",
   "execution_count": 14,
   "metadata": {},
   "outputs": [],
   "source": [
    "blend.to_csv(PATH + 'RNN_subs.csv', index_label = False)"
   ]
  }
 ],
 "metadata": {
  "kernelspec": {
   "display_name": "aimer",
   "language": "python",
   "name": "python3"
  },
  "language_info": {
   "codemirror_mode": {
    "name": "ipython",
    "version": 3
   },
   "file_extension": ".py",
   "mimetype": "text/x-python",
   "name": "python",
   "nbconvert_exporter": "python",
   "pygments_lexer": "ipython3",
   "version": "3.8.17"
  },
  "orig_nbformat": 4
 },
 "nbformat": 4,
 "nbformat_minor": 2
}
