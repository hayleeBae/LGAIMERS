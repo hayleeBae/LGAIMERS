{
 "cells": [
  {
   "cell_type": "code",
   "execution_count": 1,
   "metadata": {},
   "outputs": [],
   "source": [
    "import pandas as pd\n",
    "import matplotlib.pyplot as plt\n",
    "import os\n",
    "import numpy as np"
   ]
  },
  {
   "cell_type": "code",
   "execution_count": 2,
   "metadata": {},
   "outputs": [],
   "source": [
    "DATA_PATH = \"../data\" # 학습에 사용할 csv 파일이 저장된 폴더입니다.\n",
    "TRAIN_FILE = \"train.csv\" # 학습 및 예측에 사용할 파일입니다.\n",
    "TRAIN_PATH = os.path.join(DATA_PATH, TRAIN_FILE)\n",
    "data = pd.read_csv(TRAIN_PATH)\n",
    "\n",
    "df_brand = pd.read_csv(os.path.join(DATA_PATH, 'brand_keyword_cnt.csv'))\n",
    "df_info = pd.read_csv(os.path.join(DATA_PATH, 'product_info.csv'))\n",
    "df_sales = pd.read_csv(os.path.join(DATA_PATH, 'sales.csv'))\n",
    "df_smp = pd.read_csv(os.path.join(DATA_PATH, 'sample_submission.csv'))\n",
    "df_data = pd.read_csv(os.path.join(DATA_PATH, 'train.csv'))"
   ]
  },
  {
   "cell_type": "code",
   "execution_count": null,
   "metadata": {},
   "outputs": [],
   "source": [
    "m_data = df_data.melt(id_vars=['ID', '제품', '대분류', '중분류', '소분류', '브랜드'],\n",
    "                var_name='ds', value_name='y', ignore_index=True)"
   ]
  }
 ],
 "metadata": {
  "kernelspec": {
   "display_name": "Python 3",
   "language": "python",
   "name": "python3"
  },
  "language_info": {
   "codemirror_mode": {
    "name": "ipython",
    "version": 3
   },
   "file_extension": ".py",
   "mimetype": "text/x-python",
   "name": "python",
   "nbconvert_exporter": "python",
   "pygments_lexer": "ipython3",
   "version": "3.10.12"
  },
  "orig_nbformat": 4
 },
 "nbformat": 4,
 "nbformat_minor": 2
}
